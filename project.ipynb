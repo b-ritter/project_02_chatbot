{
 "cells": [
  {
   "cell_type": "markdown",
   "id": "124e5672",
   "metadata": {},
   "source": [
    "# Custom Chatbot Project"
   ]
  },
  {
   "attachments": {},
   "cell_type": "markdown",
   "id": "a0a3cad6-278d-4625-9f50-8e59fa20bf56",
   "metadata": {},
   "source": [
    "I chose to use the 2024 WSL World Surf League Wikipedia page to supplement ChatGPT 3.5. Experimenting with ChatGPT 4.0, I noticed that even though its last training date was in 2023 it provided accurate answers because it could automatically search the web for up to date information. (I verified this by asking it to explain how it came up with that answer!) Although ChatGPT 4.0 is better than 3.5, there is still a legitimate use case for choosing the older model. Because it is cheaper per token than 4.0, a business case could be made for implementing a custom RAG solution depending on the scale of the application.\n",
    "\n",
    "## Data Wrangling\n",
    "\n",
    "TODO: In the cells below, load your chosen dataset into a `pandas` dataframe with a column named `\"text\"`. This column should contain all of your text data, separated into at least 20 rows."
   ]
  },
  {
   "cell_type": "markdown",
   "id": "aec51cad-163f-4c76-b786-1ec52c7c335f",
   "metadata": {},
   "source": [
    "Get the 2022 — 2024 WSL rankings and event schedules from the WSL Website."
   ]
  },
  {
   "cell_type": "markdown",
   "id": "d05cde0a-ecbc-4cb0-ba8a-7fdb0d9607c3",
   "metadata": {},
   "source": [
    "Event request format: `https://www.worldsurfleague.com/events?all=1&year=<year>`"
   ]
  },
  {
   "cell_type": "markdown",
   "id": "defcbd9b-265a-4543-a008-5e805bc0c844",
   "metadata": {},
   "source": [
    "Rankings request format: `https://www.worldsurfleague.com/athletes/tour/<wct|mct>?year=<year>`"
   ]
  },
  {
   "cell_type": "code",
   "execution_count": 55,
   "id": "0a595980",
   "metadata": {},
   "outputs": [],
   "source": [
    "import requests\n",
    "from bs4 import BeautifulSoup\n",
    "import pandas as pd\n",
    "from itertools import chain"
   ]
  },
  {
   "cell_type": "code",
   "execution_count": 72,
   "id": "d239eba9-88a2-44c1-8e68-54d13f09f2a3",
   "metadata": {},
   "outputs": [],
   "source": [
    "years = ['2022','2023','2024']"
   ]
  },
  {
   "cell_type": "code",
   "execution_count": 73,
   "id": "50c18149-872a-4910-bd17-d84d06db582c",
   "metadata": {},
   "outputs": [],
   "source": [
    "def get_rankings_by_year(year):\n",
    "    tours = ['mct','wct']\n",
    "    data = []\n",
    "    for tour in tours:\n",
    "        res = requests.get(f\"https://www.worldsurfleague.com/athletes/tour/{tour}?year={year}\")\n",
    "        soup = BeautifulSoup(res.text)\n",
    "        rankings = soup.find_all('a', class_='athlete-name')\n",
    "        data.append([{\"year\": year, \"tour\": tour, \"rank\": rank + 1, \"name\": el.text} for rank, el in enumerate(rankings)])\n",
    "    return data"
   ]
  },
  {
   "cell_type": "code",
   "execution_count": 74,
   "id": "acb3a9fd",
   "metadata": {},
   "outputs": [],
   "source": [
    "results = []\n",
    "for year in years:\n",
    "    data = get_rankings_by_year(year)\n",
    "    results.append(data)"
   ]
  },
  {
   "cell_type": "code",
   "execution_count": 75,
   "id": "474a19c1-dd67-4cac-878c-2a77816bb40e",
   "metadata": {},
   "outputs": [],
   "source": [
    "df = pd.DataFrame(chain(*chain(*results)))"
   ]
  },
  {
   "cell_type": "code",
   "execution_count": 76,
   "id": "a84dee31-cbd2-49dc-8a5d-b07897b87869",
   "metadata": {},
   "outputs": [
    {
     "data": {
      "text/html": [
       "<div>\n",
       "<style scoped>\n",
       "    .dataframe tbody tr th:only-of-type {\n",
       "        vertical-align: middle;\n",
       "    }\n",
       "\n",
       "    .dataframe tbody tr th {\n",
       "        vertical-align: top;\n",
       "    }\n",
       "\n",
       "    .dataframe thead th {\n",
       "        text-align: right;\n",
       "    }\n",
       "</style>\n",
       "<table border=\"1\" class=\"dataframe\">\n",
       "  <thead>\n",
       "    <tr style=\"text-align: right;\">\n",
       "      <th></th>\n",
       "      <th>year</th>\n",
       "      <th>tour</th>\n",
       "      <th>rank</th>\n",
       "      <th>name</th>\n",
       "    </tr>\n",
       "  </thead>\n",
       "  <tbody>\n",
       "    <tr>\n",
       "      <th>0</th>\n",
       "      <td>2022</td>\n",
       "      <td>mct</td>\n",
       "      <td>1</td>\n",
       "      <td>Filipe Toledo</td>\n",
       "    </tr>\n",
       "    <tr>\n",
       "      <th>1</th>\n",
       "      <td>2022</td>\n",
       "      <td>mct</td>\n",
       "      <td>2</td>\n",
       "      <td>Italo Ferreira</td>\n",
       "    </tr>\n",
       "    <tr>\n",
       "      <th>2</th>\n",
       "      <td>2022</td>\n",
       "      <td>mct</td>\n",
       "      <td>3</td>\n",
       "      <td>Jack Robinson</td>\n",
       "    </tr>\n",
       "    <tr>\n",
       "      <th>3</th>\n",
       "      <td>2022</td>\n",
       "      <td>mct</td>\n",
       "      <td>4</td>\n",
       "      <td>Ethan Ewing</td>\n",
       "    </tr>\n",
       "    <tr>\n",
       "      <th>4</th>\n",
       "      <td>2022</td>\n",
       "      <td>mct</td>\n",
       "      <td>5</td>\n",
       "      <td>Kanoa Igarashi</td>\n",
       "    </tr>\n",
       "    <tr>\n",
       "      <th>...</th>\n",
       "      <td>...</td>\n",
       "      <td>...</td>\n",
       "      <td>...</td>\n",
       "      <td>...</td>\n",
       "    </tr>\n",
       "    <tr>\n",
       "      <th>174</th>\n",
       "      <td>2024</td>\n",
       "      <td>wct</td>\n",
       "      <td>14</td>\n",
       "      <td>Isabella Nichols</td>\n",
       "    </tr>\n",
       "    <tr>\n",
       "      <th>175</th>\n",
       "      <td>2024</td>\n",
       "      <td>wct</td>\n",
       "      <td>15</td>\n",
       "      <td>India Robinson</td>\n",
       "    </tr>\n",
       "    <tr>\n",
       "      <th>176</th>\n",
       "      <td>2024</td>\n",
       "      <td>wct</td>\n",
       "      <td>16</td>\n",
       "      <td>Alyssa Spencer</td>\n",
       "    </tr>\n",
       "    <tr>\n",
       "      <th>177</th>\n",
       "      <td>2024</td>\n",
       "      <td>wct</td>\n",
       "      <td>17</td>\n",
       "      <td>Sophie McCulloch</td>\n",
       "    </tr>\n",
       "    <tr>\n",
       "      <th>178</th>\n",
       "      <td>2024</td>\n",
       "      <td>wct</td>\n",
       "      <td>18</td>\n",
       "      <td>Carissa Moore</td>\n",
       "    </tr>\n",
       "  </tbody>\n",
       "</table>\n",
       "<p>179 rows × 4 columns</p>\n",
       "</div>"
      ],
      "text/plain": [
       "     year tour  rank              name\n",
       "0    2022  mct     1     Filipe Toledo\n",
       "1    2022  mct     2    Italo Ferreira\n",
       "2    2022  mct     3     Jack Robinson\n",
       "3    2022  mct     4       Ethan Ewing\n",
       "4    2022  mct     5    Kanoa Igarashi\n",
       "..    ...  ...   ...               ...\n",
       "174  2024  wct    14  Isabella Nichols\n",
       "175  2024  wct    15    India Robinson\n",
       "176  2024  wct    16    Alyssa Spencer\n",
       "177  2024  wct    17  Sophie McCulloch\n",
       "178  2024  wct    18     Carissa Moore\n",
       "\n",
       "[179 rows x 4 columns]"
      ]
     },
     "execution_count": 76,
     "metadata": {},
     "output_type": "execute_result"
    }
   ],
   "source": [
    "df"
   ]
  },
  {
   "cell_type": "markdown",
   "id": "60f35e3d-f8c6-4bd2-b3ff-c0f591ed064e",
   "metadata": {},
   "source": [
    "Next steps: Use ChatGPT to create natural language descriptions for the rankings (e.g. Filipe Toledo was ranked number 1 in 2022). Use these as embeddings for the prompt engineering. Also include tour events, locations and results."
   ]
  },
  {
   "cell_type": "markdown",
   "id": "ae769871",
   "metadata": {},
   "source": [
    "## Custom Query Completion\n",
    "\n",
    "TODO: In the cells below, compose a custom query using your chosen dataset and retrieve results from an OpenAI `Completion` model. You may copy and paste any useful code from the course materials."
   ]
  },
  {
   "cell_type": "code",
   "execution_count": 27,
   "id": "c69b83a1",
   "metadata": {},
   "outputs": [],
   "source": [
    "import os\n",
    "import openai\n",
    "openai.api_key = None"
   ]
  },
  {
   "cell_type": "code",
   "execution_count": null,
   "id": "582f0656",
   "metadata": {},
   "outputs": [],
   "source": []
  },
  {
   "cell_type": "code",
   "execution_count": null,
   "id": "8b6e1f75",
   "metadata": {},
   "outputs": [],
   "source": []
  },
  {
   "cell_type": "code",
   "execution_count": null,
   "id": "13f2dcd7",
   "metadata": {},
   "outputs": [],
   "source": []
  },
  {
   "cell_type": "code",
   "execution_count": null,
   "id": "c403f543",
   "metadata": {},
   "outputs": [],
   "source": []
  },
  {
   "cell_type": "code",
   "execution_count": null,
   "id": "74280b92",
   "metadata": {},
   "outputs": [],
   "source": []
  },
  {
   "cell_type": "markdown",
   "id": "1783f146",
   "metadata": {},
   "source": [
    "## Custom Performance Demonstration\n",
    "\n",
    "TODO: In the cells below, demonstrate the performance of your custom query using at least 2 questions. For each question, show the answer from a basic `Completion` model query as well as the answer from your custom query."
   ]
  },
  {
   "cell_type": "markdown",
   "id": "4f11fdc0",
   "metadata": {},
   "source": [
    "### Question 1"
   ]
  },
  {
   "cell_type": "code",
   "execution_count": 77,
   "id": "18afea5e-c99e-4893-a783-b247f23520be",
   "metadata": {},
   "outputs": [],
   "source": [
    "from openai import OpenAI"
   ]
  },
  {
   "cell_type": "code",
   "execution_count": 78,
   "id": "b0ebbda9-dc8b-4be6-b82b-4765bdfa6aba",
   "metadata": {},
   "outputs": [],
   "source": [
    "client = OpenAI()"
   ]
  },
  {
   "cell_type": "code",
   "execution_count": 100,
   "id": "4901c850",
   "metadata": {},
   "outputs": [
    {
     "name": "stdout",
     "output_type": "stream",
     "text": [
      "\n",
      "As a language model AI, I don't have access to real-time data or predictions for the future. It is impossible for me to accurately answer this question.\n"
     ]
    }
   ],
   "source": [
    "surf_prompt = \"\"\"\n",
    "Question: \"Who was the number 1 ranked female surfer in 2024 in the WSL?\"\n",
    "Answer:\n",
    "\"\"\"\n",
    "surf_prompt = client.completions.create(\n",
    "    model=\"gpt-3.5-turbo-instruct\",\n",
    "    prompt=surf_prompt,\n",
    "    stream=False,\n",
    "    max_tokens=150\n",
    ")\n",
    "print(surf_prompt.choices[0].text)"
   ]
  },
  {
   "cell_type": "code",
   "execution_count": null,
   "id": "bd7a093b",
   "metadata": {},
   "outputs": [],
   "source": []
  },
  {
   "cell_type": "markdown",
   "id": "6e86e37c",
   "metadata": {},
   "source": [
    "### Question 2"
   ]
  },
  {
   "cell_type": "code",
   "execution_count": null,
   "id": "6f646989",
   "metadata": {},
   "outputs": [],
   "source": []
  },
  {
   "cell_type": "code",
   "execution_count": null,
   "id": "11c07a54",
   "metadata": {},
   "outputs": [],
   "source": []
  }
 ],
 "metadata": {
  "kernelspec": {
   "display_name": "Python 3 (ipykernel)",
   "language": "python",
   "name": "python3"
  },
  "language_info": {
   "codemirror_mode": {
    "name": "ipython",
    "version": 3
   },
   "file_extension": ".py",
   "mimetype": "text/x-python",
   "name": "python",
   "nbconvert_exporter": "python",
   "pygments_lexer": "ipython3",
   "version": "3.9.18"
  }
 },
 "nbformat": 4,
 "nbformat_minor": 5
}
