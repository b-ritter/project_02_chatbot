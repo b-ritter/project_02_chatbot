{
 "cells": [
  {
   "cell_type": "markdown",
   "id": "124e5672",
   "metadata": {},
   "source": [
    "# Custom Chatbot Project: WSL Surf Results"
   ]
  },
  {
   "attachments": {},
   "cell_type": "markdown",
   "id": "a0a3cad6-278d-4625-9f50-8e59fa20bf56",
   "metadata": {},
   "source": [
    "### Overview\n",
    "I chose to use data from the World Surf League [rankings](https://www.worldsurfleague.com/athletes/tour/wct?year=2024) and [event](https://www.worldsurfleague.com/events?month=may&year=2024) pages to provide context for surf event result and rankings questions from 2022 to the present using ChatGPT 3.5. Without this context, ChatGPT 3.5 cannot generate a correct response because its training data only goes up until 2021. See [Custom Performance Demonstration](#Custom-Performance-Demonstration) below for examples.\n",
    "\n",
    "### Process\n",
    "Experimenting with ChatGPT 4.0, I noticed that even though its last training date was in 2023 it provided accurate answers because it could automatically search the web for up to date information. (I verified this by asking it to explain how it came up with that answer!) Although ChatGPT 4.0 provides a better result than 3.5, there is still a legitimate use case for choosing the older model. Because it is cheaper per token than 4.0, a business case could be made for implementing a custom RAG solution depending on the scale of the application.\n",
    "\n",
    "## Data Wrangling"
   ]
  },
  {
   "cell_type": "markdown",
   "id": "aec51cad-163f-4c76-b786-1ec52c7c335f",
   "metadata": {},
   "source": [
    "Get the 2022 — 2024 WSL rankings and event schedules and results from the WSL Website."
   ]
  },
  {
   "cell_type": "markdown",
   "id": "d05cde0a-ecbc-4cb0-ba8a-7fdb0d9607c3",
   "metadata": {},
   "source": [
    "Event request format: `https://www.worldsurfleague.com/events?all=1&year=<year>`"
   ]
  },
  {
   "cell_type": "markdown",
   "id": "defcbd9b-265a-4543-a008-5e805bc0c844",
   "metadata": {},
   "source": [
    "Rankings request format: `https://www.worldsurfleague.com/athletes/tour/<wct|mct>?year=<year>`"
   ]
  },
  {
   "cell_type": "code",
   "execution_count": 4,
   "id": "0a595980",
   "metadata": {},
   "outputs": [],
   "source": [
    "from datetime import datetime as dt\n",
    "\n",
    "import requests\n",
    "from bs4 import BeautifulSoup\n",
    "import pandas as pd\n",
    "from itertools import chain"
   ]
  },
  {
   "cell_type": "code",
   "execution_count": 5,
   "id": "d239eba9-88a2-44c1-8e68-54d13f09f2a3",
   "metadata": {},
   "outputs": [],
   "source": [
    "years = ['2022','2023','2024']"
   ]
  },
  {
   "cell_type": "code",
   "execution_count": 6,
   "id": "50c18149-872a-4910-bd17-d84d06db582c",
   "metadata": {},
   "outputs": [],
   "source": [
    "def get_rankings_by_year(year):\n",
    "    genders = ['mct','wct']\n",
    "    data = []\n",
    "    for gender in genders:\n",
    "        res = requests.get(f\"https://www.worldsurfleague.com/athletes/tour/{gender}?year={year}\")\n",
    "        soup = BeautifulSoup(res.text)\n",
    "        rankings = soup.find_all('a', class_='athlete-name')\n",
    "        gender_map = {\"mct\": \"male\", \"wct\": \"female\"}\n",
    "        data.append([{\"year\": year, \"gender\": gender_map.get(gender), \"rank\": rank + 1, \"name\": el.text} for rank, el in enumerate(rankings)])\n",
    "    return data"
   ]
  },
  {
   "cell_type": "code",
   "execution_count": 7,
   "id": "acb3a9fd",
   "metadata": {},
   "outputs": [],
   "source": [
    "results = []\n",
    "for year in years:\n",
    "    data = get_rankings_by_year(year)\n",
    "    results.append(data)"
   ]
  },
  {
   "cell_type": "code",
   "execution_count": 8,
   "id": "474a19c1-dd67-4cac-878c-2a77816bb40e",
   "metadata": {},
   "outputs": [],
   "source": [
    "df = pd.DataFrame(chain(*chain(*results)))"
   ]
  },
  {
   "cell_type": "code",
   "execution_count": 9,
   "id": "a84dee31-cbd2-49dc-8a5d-b07897b87869",
   "metadata": {},
   "outputs": [],
   "source": [
    "df[[\"first_name\", \"last_name\"]] = df['name'].str.split(' ', n=1, expand=True)"
   ]
  },
  {
   "cell_type": "code",
   "execution_count": 10,
   "id": "6c8281ea-8bfa-45b7-8f63-000c6b33576b",
   "metadata": {},
   "outputs": [],
   "source": [
    "df = df.replace(\"Joao\",\"João\").replace(\"Joao Chianca\", \"João Chianca\")"
   ]
  },
  {
   "cell_type": "code",
   "execution_count": 11,
   "id": "d9d3dd21-4669-4c1e-997e-f8ecd5b247c2",
   "metadata": {},
   "outputs": [],
   "source": [
    "df[\"text\"] = df.apply(lambda x: f\"{x['name']} {'is' if int(x.year) == dt.now().year else 'was' } the number {x['rank']} ranked {x.gender} surfer in {x.year}\".lower(), axis=1)"
   ]
  },
  {
   "cell_type": "code",
   "execution_count": 12,
   "id": "59ed5336-aac3-425d-8ae5-92ca6b4d737a",
   "metadata": {},
   "outputs": [],
   "source": [
    "df_athletes = df[[\"name\",\"gender\"]].drop_duplicates().reset_index(drop=True)"
   ]
  },
  {
   "cell_type": "code",
   "execution_count": 13,
   "id": "327f002b-8ed9-48d6-9e79-d5893af5c8a2",
   "metadata": {},
   "outputs": [],
   "source": [
    "import re\n",
    "from daterangeparser import parse\n",
    "def get_events_by_year(year):\n",
    "    data = []\n",
    "    res = requests.get(f\"https://www.worldsurfleague.com/events?all=1&year={year}\")\n",
    "    soup = BeautifulSoup(res.text)\n",
    "    event_pattern = re.compile(r\"^event-*\")\n",
    "    event_table_rows = soup.find(\"div\", class_=\"events-schedule-table\").find_all(\"tr\", class_=event_pattern)\n",
    "    return event_table_rows, year\n",
    "\n",
    "def parse_event_cols(rows, year):\n",
    "    result = []\n",
    "    for row in rows:\n",
    "        date_range, location, tour, status = row.find_all(\"td\")\n",
    "        event_details = location.find(\"a\")\n",
    "        event_link = event_details[\"href\"] if event_details else \"\"\n",
    "        event_data = eval(event_details[\"data-gtm-event\"]) if event_details else \"\"\n",
    "        tour_code = event_data[\"tour_code\"] if event_details else \"\"\n",
    "        event_name = event_data[\"event_name\"] if event_details else \"\"\n",
    "        start, end = parse(f'{date_range.text} {year}')\n",
    "        if tour_code and tour_code.lower() == \"mct\":\n",
    "            result.append({\n",
    "                \"start_date\": start,\n",
    "                \"end_date\": end,\n",
    "                \"year\": year,\n",
    "                \"event_name\": event_name,\n",
    "                \"tour_code\": tour_code,\n",
    "                \"event_link\": event_link.strip(),\n",
    "                \"status\": status.text.lower().strip()\n",
    "            })\n",
    "    return result"
   ]
  },
  {
   "cell_type": "code",
   "execution_count": 14,
   "id": "218a6a01-dd4a-46b0-ac43-cda10daf781b",
   "metadata": {},
   "outputs": [],
   "source": [
    "results = []\n",
    "\n",
    "for year in years:\n",
    "    row_data, year = get_events_by_year(year)\n",
    "    result = parse_event_cols(row_data, year)\n",
    "    results.append(result)\n",
    "df_events = pd.DataFrame(chain(*results))"
   ]
  },
  {
   "cell_type": "markdown",
   "id": "2e0bdf3d-87c4-49e2-89f0-0681ecf8a7b0",
   "metadata": {},
   "source": [
    "### Extract Links from Contest Results"
   ]
  },
  {
   "cell_type": "code",
   "execution_count": 15,
   "id": "f5e1f2d7-2f5c-49e4-a5ef-28892fa8e17c",
   "metadata": {},
   "outputs": [],
   "source": [
    "df_events[\"id\"] = pd.util.hash_pandas_object(df_events, index=False)"
   ]
  },
  {
   "cell_type": "code",
   "execution_count": 16,
   "id": "87936bd7-dfda-48ee-acc0-17da6cfc2f79",
   "metadata": {},
   "outputs": [],
   "source": [
    "def get_event_by_url(url) -> list:\n",
    "    result = []\n",
    "    url = url.replace(\"/main\",\"/results\")\n",
    "    res = requests.get(url)\n",
    "    soup = BeautifulSoup(res.text)\n",
    "    champs = soup.find(\"span\", class_=\"status-module__status-message\")\n",
    "    return champs\n",
    "\n",
    "def parse_event_results(data, comp_id: str, athletes: pd.DataFrame):\n",
    "    results = []\n",
    "    for _, row in athletes.iterrows():\n",
    "        if row[\"name\"] in data.text:\n",
    "            results.append({\"comp_id\": comp_id, \"athlete_name\": row[\"name\"], \"athlete_gender\": row[\"gender\"]})\n",
    "    return results\n",
    "        "
   ]
  },
  {
   "cell_type": "code",
   "execution_count": 17,
   "id": "ceb83b9c-7ae8-4b82-bf4a-4630468d18ed",
   "metadata": {},
   "outputs": [],
   "source": [
    "comp_results = []\n",
    "\n",
    "for idx, e in df_events[df_events[\"end_date\"] < dt.now()].iterrows():\n",
    "    data = get_event_by_url(e.event_link)\n",
    "    results = parse_event_results(data, e.id, df_athletes)\n",
    "    comp_results.append(results)"
   ]
  },
  {
   "cell_type": "code",
   "execution_count": 18,
   "id": "e0fbd431-f746-47d8-a8bf-23e12512a6f2",
   "metadata": {},
   "outputs": [
    {
     "data": {
      "text/html": [
       "<div>\n",
       "<style scoped>\n",
       "    .dataframe tbody tr th:only-of-type {\n",
       "        vertical-align: middle;\n",
       "    }\n",
       "\n",
       "    .dataframe tbody tr th {\n",
       "        vertical-align: top;\n",
       "    }\n",
       "\n",
       "    .dataframe thead th {\n",
       "        text-align: right;\n",
       "    }\n",
       "</style>\n",
       "<table border=\"1\" class=\"dataframe\">\n",
       "  <thead>\n",
       "    <tr style=\"text-align: right;\">\n",
       "      <th></th>\n",
       "      <th>name</th>\n",
       "      <th>gender</th>\n",
       "    </tr>\n",
       "  </thead>\n",
       "  <tbody>\n",
       "    <tr>\n",
       "      <th>33</th>\n",
       "      <td>João Chianca</td>\n",
       "      <td>male</td>\n",
       "    </tr>\n",
       "  </tbody>\n",
       "</table>\n",
       "</div>"
      ],
      "text/plain": [
       "            name gender\n",
       "33  João Chianca   male"
      ]
     },
     "execution_count": 18,
     "metadata": {},
     "output_type": "execute_result"
    }
   ],
   "source": [
    "df_athletes[df_athletes[\"name\"].isin([\"João Chianca\"])]"
   ]
  },
  {
   "cell_type": "code",
   "execution_count": 19,
   "id": "396ca57c-6665-44ac-beea-4ba11ba48432",
   "metadata": {},
   "outputs": [],
   "source": [
    "comp_results_df = pd.DataFrame(list(chain(*comp_results)))"
   ]
  },
  {
   "cell_type": "code",
   "execution_count": 20,
   "id": "c33bfc0a-03f0-4726-ac56-d0c20aa75dc7",
   "metadata": {},
   "outputs": [
    {
     "data": {
      "text/plain": [
       "(26, 3)"
      ]
     },
     "execution_count": 20,
     "metadata": {},
     "output_type": "execute_result"
    }
   ],
   "source": [
    "comp_results_df[comp_results_df[\"athlete_gender\"] == \"male\"].sort_values(\"comp_id\").shape"
   ]
  },
  {
   "cell_type": "code",
   "execution_count": 21,
   "id": "09ffd5da-5597-499d-b0fc-fbebd6251923",
   "metadata": {},
   "outputs": [],
   "source": [
    "comp_results_df = comp_results_df.merge(df_events, left_on=\"comp_id\", right_on=\"id\").drop([\"event_link\", \"tour_code\", \"id\", \"comp_id\"], axis=1)"
   ]
  },
  {
   "cell_type": "code",
   "execution_count": 22,
   "id": "b16500b6-7c23-4a8c-9d79-ebf06c115f6b",
   "metadata": {},
   "outputs": [],
   "source": [
    "comp_results_df[\"text\"] = comp_results_df.apply(lambda x: f\"{x.athlete_name} won the {'mens' if x.athlete_gender == 'male' else 'womens'} {x.year} {x.event_name}\".lower(), axis=1)"
   ]
  },
  {
   "cell_type": "code",
   "execution_count": 23,
   "id": "b50ff6b9-311f-4de8-8e14-63a401c0c8c9",
   "metadata": {},
   "outputs": [],
   "source": [
    "all_df = pd.DataFrame({\"text\": pd.concat([comp_results_df[\"text\"], df[\"text\"]])})"
   ]
  },
  {
   "cell_type": "markdown",
   "id": "ae769871",
   "metadata": {},
   "source": [
    "## Custom Query Completion\n",
    "\n",
    "TODO: In the cells below, compose a custom query using your chosen dataset and retrieve results from an OpenAI `Completion` model. You may copy and paste any useful code from the course materials."
   ]
  },
  {
   "cell_type": "code",
   "execution_count": 26,
   "id": "c69b83a1",
   "metadata": {},
   "outputs": [],
   "source": [
    "import os\n",
    "import openai as client\n",
    "openai.api_key = os.environ.get(\"OPENAI_API_KEY\")"
   ]
  },
  {
   "cell_type": "code",
   "execution_count": 27,
   "id": "69963b9b-4914-45fb-8226-fefe6aeb0bfa",
   "metadata": {},
   "outputs": [],
   "source": [
    "EMBEDDING_MODEL_NAME = \"text-embedding-ada-002\"\n",
    "batch_size = 10\n",
    "embeddings = []\n",
    "for i in range(0, len(all_df), batch_size):\n",
    "    response = client.embeddings.create(\n",
    "        input=all_df.iloc[i:i+batch_size][\"text\"].tolist(),\n",
    "        model=EMBEDDING_MODEL_NAME\n",
    "    )\n",
    "    embeddings.extend([data.embedding for data in response.data])\n",
    "all_df[\"embeddings\"] = embeddings"
   ]
  },
  {
   "cell_type": "code",
   "execution_count": 28,
   "id": "582f0656",
   "metadata": {},
   "outputs": [],
   "source": [
    "from scipy.spatial.distance import cosine as cosine_distance\n",
    "\n",
    "def get_rows_sorted_by_relevance(question, df):\n",
    "    question_embeddings = client.embeddings.create(\n",
    "        input=question,\n",
    "        model=EMBEDDING_MODEL_NAME\n",
    "    )\n",
    "    df_copy = df.copy()\n",
    "    df_copy[\"distances\"] = df_copy[\"embeddings\"].apply(lambda row: cosine_distance(row, question_embeddings.data[0].embedding))\n",
    "    df_copy = df_copy.sort_values(\"distances\", ascending=True).reset_index(drop=True)\n",
    "    return df_copy"
   ]
  },
  {
   "cell_type": "code",
   "execution_count": 29,
   "id": "8b6e1f75",
   "metadata": {},
   "outputs": [],
   "source": [
    "USER_QUESTION = \"\"\"Who won the womens 2023 Pipe Pro?\"\"\""
   ]
  },
  {
   "cell_type": "code",
   "execution_count": 87,
   "id": "c403f543",
   "metadata": {},
   "outputs": [],
   "source": [
    "import tiktoken\n",
    "\n",
    "def create_prompt(question, df, max_token_count):\n",
    "    tokenizer = tiktoken.get_encoding(\"cl100k_base\")\n",
    "    prompt_template = \"\"\"\n",
    "Answer the question based on the context below, and if the question\n",
    "can't be answered based on the context, say \"I don't know\"\n",
    "\n",
    "Context: \n",
    "\n",
    "{}\n",
    "\n",
    "---\n",
    "\n",
    "Question: {}\n",
    "Answer:\"\"\"\n",
    "\n",
    "    current_token_count = len(tokenizer.encode(prompt_template)) + \\\n",
    "                            len(tokenizer.encode(question))\n",
    "\n",
    "    context = []\n",
    "    for text in get_rows_sorted_by_relevance(question, df)[\"text\"].values:\n",
    "        text_token_count = len(tokenizer.encode(text))\n",
    "        current_token_count += text_token_count\n",
    "        if current_token_count <= max_token_count:\n",
    "            context.append(text)\n",
    "        else:\n",
    "            break\n",
    "\n",
    "    return prompt_template.format(\"\\n\\n###\\n\\n\".join(context), question)"
   ]
  },
  {
   "cell_type": "markdown",
   "id": "1783f146",
   "metadata": {},
   "source": [
    "## Custom Performance Demonstration\n",
    "\n",
    "TODO: In the cells below, demonstrate the performance of your custom query using at least 2 questions. For each question, show the answer from a basic `Completion` model query as well as the answer from your custom query."
   ]
  },
  {
   "cell_type": "markdown",
   "id": "4f11fdc0",
   "metadata": {},
   "source": [
    "### Question 1"
   ]
  },
  {
   "cell_type": "code",
   "execution_count": 88,
   "id": "e60eb4ce-6838-4af0-941c-1a2b70eb444f",
   "metadata": {},
   "outputs": [],
   "source": [
    "question_01 = \"Who was the number 1 ranked female surfer in 2024 in the WSL?\""
   ]
  },
  {
   "cell_type": "code",
   "execution_count": 89,
   "id": "762ed568-9a01-41e4-b402-87b6e7f6afd0",
   "metadata": {},
   "outputs": [],
   "source": [
    "def generic_prompt(question):\n",
    "    return f\"\"\"\n",
    "Question: {question_01}\n",
    "Answer:\n",
    "\"\"\""
   ]
  },
  {
   "cell_type": "code",
   "execution_count": 90,
   "id": "4901c850",
   "metadata": {},
   "outputs": [
    {
     "name": "stdout",
     "output_type": "stream",
     "text": [
      "\n",
      "It is not possible to determine who the number 1 ranked female surfer will be in 2024 as it is a future event and can be influenced by many factors.\n"
     ]
    }
   ],
   "source": [
    "surf_prompt = client.completions.create(\n",
    "    model=\"gpt-3.5-turbo-instruct\",\n",
    "    prompt=generic_prompt(question_01),\n",
    "    stream=False,\n",
    "    max_tokens=150\n",
    ")\n",
    "print(surf_prompt.choices[0].text)"
   ]
  },
  {
   "cell_type": "code",
   "execution_count": 91,
   "id": "bd7a093b",
   "metadata": {},
   "outputs": [
    {
     "name": "stdout",
     "output_type": "stream",
     "text": [
      "Caitlin Simmers\n"
     ]
    }
   ],
   "source": [
    "prompt = create_prompt(question_01, all_df, 500)\n",
    "initial_surf_answer = client.completions.create(\n",
    "    model=\"gpt-3.5-turbo-instruct\",\n",
    "    prompt=prompt,\n",
    "    max_tokens=500,\n",
    "    temperature=0\n",
    ")\n",
    "print(initial_surf_answer.choices[0].text.strip())"
   ]
  },
  {
   "cell_type": "markdown",
   "id": "5a249ff5-2da1-4a51-a9e1-ab20a4d5fd6d",
   "metadata": {},
   "source": [
    "**Caitlin Simmers** is the correct response 👏🏼"
   ]
  },
  {
   "cell_type": "markdown",
   "id": "6e86e37c",
   "metadata": {},
   "source": [
    "### Question 2"
   ]
  },
  {
   "cell_type": "code",
   "execution_count": 92,
   "id": "d3da66f7-f3b9-4814-9512-4c205ecc13b4",
   "metadata": {},
   "outputs": [],
   "source": [
    "question_02 = \"Who won the Pipe Pro surfing event in 2023?\""
   ]
  },
  {
   "cell_type": "code",
   "execution_count": 93,
   "id": "11c07a54",
   "metadata": {},
   "outputs": [
    {
     "name": "stdout",
     "output_type": "stream",
     "text": [
      "I'm sorry, I cannot accurately predict future events.\n"
     ]
    }
   ],
   "source": [
    "surf_prompt = f\"\"\"\n",
    "Question: {question_02}\n",
    "Answer:\n",
    "\"\"\"\n",
    "surf_prompt = client.completions.create(\n",
    "    model=\"gpt-3.5-turbo-instruct\",\n",
    "    prompt=surf_prompt,\n",
    "    stream=False,\n",
    "    max_tokens=150\n",
    ")\n",
    "print(surf_prompt.choices[0].text.strip())"
   ]
  },
  {
   "cell_type": "code",
   "execution_count": 94,
   "id": "43659919-573d-49f4-90e7-fd03c2ecf6fe",
   "metadata": {},
   "outputs": [
    {
     "name": "stdout",
     "output_type": "stream",
     "text": [
      "Jack Robinson won the mens 2023 billabong pro pipeline.\n"
     ]
    }
   ],
   "source": [
    "prompt = create_prompt(question_02, all_df, 250)\n",
    "initial_surf_answer = client.completions.create(\n",
    "    model=\"gpt-3.5-turbo-instruct\",\n",
    "    prompt=prompt,\n",
    "    max_tokens=250,\n",
    "    temperature=0\n",
    ")\n",
    "print(initial_surf_answer.choices[0].text.strip())"
   ]
  },
  {
   "cell_type": "markdown",
   "id": "517dc8ba-30da-4d99-9b5d-f7d5917d80d3",
   "metadata": {},
   "source": [
    "**Jack Robinson** is correct, but the result should also include Carissa Moore. While the initial result included both surfers, retrying the code only yielded the male surfer. Unfortunately, this looks like gender bias in the model."
   ]
  },
  {
   "cell_type": "code",
   "execution_count": 95,
   "id": "59e04b2a-5806-4c5c-9a32-6631384e26e3",
   "metadata": {},
   "outputs": [],
   "source": [
    "question_03 = \"Who won the womens' Pipe Pro surfing event in 2023?\""
   ]
  },
  {
   "cell_type": "code",
   "execution_count": 96,
   "id": "a436dc28-e64b-4526-9ff6-08aa14047b7d",
   "metadata": {},
   "outputs": [
    {
     "name": "stdout",
     "output_type": "stream",
     "text": [
      "Carissa Moore\n"
     ]
    }
   ],
   "source": [
    "prompt = create_prompt(question_03, all_df, 250)\n",
    "initial_surf_answer = client.completions.create(\n",
    "    model=\"gpt-3.5-turbo-instruct\",\n",
    "    prompt=prompt,\n",
    "    max_tokens=250,\n",
    "    temperature=0\n",
    ")\n",
    "print(initial_surf_answer.choices[0].text.strip())"
   ]
  },
  {
   "cell_type": "markdown",
   "id": "19ddd237-20df-40de-a878-67d110293268",
   "metadata": {},
   "source": [
    "**Carissa More** is correct here. "
   ]
  },
  {
   "cell_type": "code",
   "execution_count": null,
   "id": "db93449c-1a53-4995-ba26-264e3dcfa003",
   "metadata": {},
   "outputs": [],
   "source": []
  }
 ],
 "metadata": {
  "kernelspec": {
   "display_name": "Python 3 (ipykernel)",
   "language": "python",
   "name": "python3"
  },
  "language_info": {
   "codemirror_mode": {
    "name": "ipython",
    "version": 3
   },
   "file_extension": ".py",
   "mimetype": "text/x-python",
   "name": "python",
   "nbconvert_exporter": "python",
   "pygments_lexer": "ipython3",
   "version": "3.9.18"
  }
 },
 "nbformat": 4,
 "nbformat_minor": 5
}
